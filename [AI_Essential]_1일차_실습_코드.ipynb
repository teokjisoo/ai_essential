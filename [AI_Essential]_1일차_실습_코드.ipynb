{
  "cells": [
    {
      "cell_type": "markdown",
      "metadata": {
        "id": "view-in-github",
        "colab_type": "text"
      },
      "source": [
        "<a href=\"https://colab.research.google.com/github/teokjisoo/ai_essential/blob/main/%5BAI_Essential%5D_1%E1%84%8B%E1%85%B5%E1%86%AF%E1%84%8E%E1%85%A1_%E1%84%89%E1%85%B5%E1%86%AF%E1%84%89%E1%85%B3%E1%86%B8_%E1%84%8F%E1%85%A9%E1%84%83%E1%85%B3.ipynb\" target=\"_parent\"><img src=\"https://colab.research.google.com/assets/colab-badge.svg\" alt=\"Open In Colab\"/></a>"
      ]
    },
    {
      "cell_type": "markdown",
      "id": "c03864d9",
      "metadata": {
        "id": "c03864d9"
      },
      "source": [
        "# 01. Python"
      ]
    },
    {
      "cell_type": "markdown",
      "id": "da327bba",
      "metadata": {
        "id": "da327bba"
      },
      "source": [
        "## 01-001 Python 코드\n"
      ]
    },
    {
      "cell_type": "code",
      "execution_count": null,
      "id": "cdbcc37b",
      "metadata": {
        "id": "cdbcc37b",
        "outputId": "556dceb8-f6be-4176-e0bd-4242c81319c4"
      },
      "outputs": [
        {
          "name": "stdout",
          "output_type": "stream",
          "text": [
            "1 is odd\n",
            "2 is even\n",
            "3 is odd\n",
            "4 is even\n",
            "5 is odd\n"
          ]
        }
      ],
      "source": [
        "# Python: 들여쓰기로 코드 블록 설정\n",
        "def check_numbers(numbers):\n",
        "    for number in numbers:\n",
        "        if number % 2 == 0:\n",
        "            print(f'{number} is even')\n",
        "        else:\n",
        "            print(f'{number} is odd')\n",
        "\n",
        "# 함수 호출\n",
        "numbers = [1, 2, 3, 4, 5]\n",
        "check_numbers(numbers)"
      ]
    },
    {
      "cell_type": "markdown",
      "id": "91e2b03b",
      "metadata": {
        "id": "91e2b03b"
      },
      "source": [
        "## 01-002 Python: for문을 이용한 시퀀스 순회 구조\n"
      ]
    },
    {
      "cell_type": "code",
      "execution_count": null,
      "id": "f4540f24",
      "metadata": {
        "id": "f4540f24"
      },
      "outputs": [],
      "source": [
        "# for문을 이용한 시퀀스 순회 구조\n",
        "# 시퀀스의 각 요소가 변수에 순차적으로 대입되어 실행 코드가 반복 수행됨\n",
        "for 변수 in 시퀀스:\n",
        "    실행할 코드"
      ]
    },
    {
      "cell_type": "markdown",
      "id": "8b37f64e",
      "metadata": {
        "id": "8b37f64e"
      },
      "source": [
        "## 01-003 Python: for문을 이용한 시퀀스 순회 구조\n"
      ]
    },
    {
      "cell_type": "code",
      "execution_count": null,
      "id": "50591d15",
      "metadata": {
        "id": "50591d15",
        "outputId": "7ce73f97-c399-48b6-f8b9-9431e26958e8"
      },
      "outputs": [
        {
          "name": "stdout",
          "output_type": "stream",
          "text": [
            "0\n",
            "1\n",
            "2\n",
            "3\n",
            "4\n"
          ]
        }
      ],
      "source": [
        "numbers = [0, 1, 2, 3, 4]  # 리스트 생성\n",
        "\n",
        "for number in numbers:  # 리스트의 각 요소를 순차적으로 number 변수에 대입\n",
        "    print(number)  # number의 값을 출력"
      ]
    },
    {
      "cell_type": "markdown",
      "id": "988e1b6d",
      "metadata": {
        "id": "988e1b6d"
      },
      "source": [
        "## 01-004 Python: range() 함수를 이용한 반복\n"
      ]
    },
    {
      "cell_type": "code",
      "execution_count": null,
      "id": "667dc426",
      "metadata": {
        "id": "667dc426",
        "outputId": "b457f473-953a-4df1-fb0f-f2c2a985cfc2"
      },
      "outputs": [
        {
          "name": "stdout",
          "output_type": "stream",
          "text": [
            "0\n",
            "1\n",
            "2\n",
            "3\n",
            "4\n"
          ]
        }
      ],
      "source": [
        "# range() 함수를 사용한 반복문\n",
        "for number in range(5):  # 0부터 4까지의 숫자를 생성하여 number 변수에 대입\n",
        "    print(number)  # number의 값을 출력"
      ]
    },
    {
      "cell_type": "markdown",
      "id": "a02f8cf9",
      "metadata": {
        "id": "a02f8cf9"
      },
      "source": [
        "## 01-005 Python: 함수의 기본 구조"
      ]
    },
    {
      "cell_type": "code",
      "execution_count": null,
      "id": "54af0c85",
      "metadata": {
        "id": "54af0c85"
      },
      "outputs": [],
      "source": [
        "# 함수 정의 예시\n",
        "def 함수이름(매개변수1, 매개변수2):\n",
        "    # 실행할 코드\n",
        "    return 반환값  # 반환값은 선택 사항"
      ]
    },
    {
      "cell_type": "markdown",
      "id": "3a7a116b",
      "metadata": {
        "id": "3a7a116b"
      },
      "source": [
        "## 01-006 Python: 함수 정의 및 호출\n"
      ]
    },
    {
      "cell_type": "code",
      "execution_count": null,
      "id": "1603ad8d",
      "metadata": {
        "id": "1603ad8d"
      },
      "outputs": [],
      "source": [
        "# 두 값을 더하는 함수 정의\n",
        "def add(a, b):  # a와 b라는 두 매개변수를 받음\n",
        "    return a + b  # 두 값을 더한 결과를 반환\n",
        "\n",
        "# 함수 호출 및 결과 출력\n",
        "result = add(5, 3)  # add 함수를 호출하여 5와 3을 더한 결과를 반환받음\n",
        "print(result)  # 결과값 출력 -> 8"
      ]
    },
    {
      "cell_type": "markdown",
      "id": "6593cf89",
      "metadata": {
        "id": "6593cf89"
      },
      "source": [
        "## 01-007 Python: 기본 매개변수를 사용하는 함수\n"
      ]
    },
    {
      "cell_type": "code",
      "execution_count": null,
      "id": "1c70f028",
      "metadata": {
        "id": "1c70f028",
        "outputId": "36966591-c055-4b06-80a8-6e60a64ac2de"
      },
      "outputs": [
        {
          "name": "stdout",
          "output_type": "stream",
          "text": [
            "Welcome Guest!\n",
            "Welcome to AI Essential!\n"
          ]
        }
      ],
      "source": [
        "# 기본 매개변수를 사용하는 함수 정의\n",
        "def welcome(name='Guest'):  # 기본값이 'Guest'인 매개변수 name\n",
        "    return f'Welcome {name}!'  # name 값을 사용해 환영 메시지 반환\n",
        "\n",
        "# 함수 호출 및 결과 출력\n",
        "print(welcome())  # 매개변수를 전달하지 않으면 기본값 'Guest'가 사용됨 -> 'Welcome Guest!'\n",
        "print(welcome('to AI Essential'))  # 'to AI Essential' 값을 전달 -> 'Welcome to AI Essential!'"
      ]
    },
    {
      "cell_type": "markdown",
      "id": "5356a81c",
      "metadata": {
        "id": "5356a81c"
      },
      "source": [
        "## 01-008 Python: 모듈 생성 및 사용\n"
      ]
    },
    {
      "cell_type": "code",
      "execution_count": null,
      "id": "d018e098",
      "metadata": {
        "id": "d018e098",
        "outputId": "1e438bd6-87ce-4a91-c6b0-9584cb78d9b8"
      },
      "outputs": [
        {
          "name": "stdout",
          "output_type": "stream",
          "text": [
            "Writing mymodule.py\n"
          ]
        }
      ],
      "source": [
        "%%writefile mymodule.py\n",
        "# mymodule.py\n",
        "def welcome(name='Guest'):\n",
        "    return f'Welcome {name}!'  # 기본값을 사용하여 환영 메시지 반환\n",
        "\n",
        "def add(a, b):\n",
        "    return a + b  # 두 값을 더한 결과를 반환"
      ]
    },
    {
      "cell_type": "markdown",
      "id": "ea527609",
      "metadata": {
        "id": "ea527609"
      },
      "source": [
        "## 01-009 Python: 모듈을 사용하여 함수 호출하기"
      ]
    },
    {
      "cell_type": "code",
      "execution_count": null,
      "id": "84ca0b5b",
      "metadata": {
        "id": "84ca0b5b",
        "outputId": "afc45fb8-1ead-4ed0-8f01-f467bb1eb2cd"
      },
      "outputs": [
        {
          "name": "stdout",
          "output_type": "stream",
          "text": [
            "Welcome to AI Essential!\n",
            "8\n"
          ]
        }
      ],
      "source": [
        "# mymodule 모듈을 import\n",
        "import mymodule\n",
        "\n",
        "# 모듈 내 함수 호출\n",
        "print(mymodule.welcome('to AI Essential'))  # 'Welcome to AI Essential!' 출력\n",
        "print(mymodule.add(3, 5))  # 3 + 5 = 8 출력"
      ]
    },
    {
      "cell_type": "markdown",
      "id": "17c88379",
      "metadata": {
        "id": "17c88379"
      },
      "source": [
        "## 01-010 Python: 모듈을 별칭으로 불러오기\n"
      ]
    },
    {
      "cell_type": "code",
      "execution_count": null,
      "id": "af539373",
      "metadata": {
        "id": "af539373",
        "outputId": "657ce80d-aa2c-46b1-dbbe-218f5d5a83f0"
      },
      "outputs": [
        {
          "name": "stdout",
          "output_type": "stream",
          "text": [
            "Welcome to AI Essential!\n",
            "8\n"
          ]
        }
      ],
      "source": [
        "# mymodule 모듈을 별칭 'mm'으로 import\n",
        "import mymodule as mm\n",
        "\n",
        "# 모듈의 함수를 별칭을 사용하여 호출\n",
        "print(mm.welcome('to AI Essential'))  # 'Welcome to AI Essential!' 출력\n",
        "print(mm.add(3, 5))  # 3 + 5 = 8 출력"
      ]
    },
    {
      "cell_type": "markdown",
      "id": "44ae759e",
      "metadata": {
        "id": "44ae759e"
      },
      "source": [
        "## 01-011 Python: 모듈에서 특정 함수만 불러오기\n"
      ]
    },
    {
      "cell_type": "code",
      "execution_count": null,
      "id": "61368cf1",
      "metadata": {
        "id": "61368cf1",
        "outputId": "8b3eeb8d-c006-4819-9d1b-1bff92a4908d"
      },
      "outputs": [
        {
          "name": "stdout",
          "output_type": "stream",
          "text": [
            "Welcome to AI Essential!\n",
            "8\n"
          ]
        }
      ],
      "source": [
        "# mymodule 모듈에서 특정 함수만 불러오기\n",
        "from mymodule import welcome, add\n",
        "\n",
        "# welcome 함수 호출\n",
        "print(welcome('to AI Essential'))  # 'Welcome to AI Essential!' 출력\n",
        "\n",
        "# add 함수 호출\n",
        "print(add(3, 5))  # 3 + 5 = 8 출력"
      ]
    },
    {
      "cell_type": "markdown",
      "id": "0ca3d2a4",
      "metadata": {
        "id": "0ca3d2a4"
      },
      "source": [
        "---"
      ]
    },
    {
      "cell_type": "markdown",
      "id": "95799a86",
      "metadata": {
        "id": "95799a86"
      },
      "source": [
        "# 02. PyTorch Tensor"
      ]
    },
    {
      "cell_type": "markdown",
      "id": "9a83c5e7",
      "metadata": {
        "id": "9a83c5e7"
      },
      "source": [
        "## 02-001 PyTorch와 NumPy 라이브러리 임포트\n"
      ]
    },
    {
      "cell_type": "code",
      "execution_count": null,
      "id": "eee20a69",
      "metadata": {
        "id": "eee20a69"
      },
      "outputs": [],
      "source": [
        "import torch  # PyTorch 라이브러리 임포트"
      ]
    },
    {
      "cell_type": "markdown",
      "id": "1e46b2c5",
      "metadata": {
        "id": "1e46b2c5"
      },
      "source": [
        "## 02-002 1D 텐서 생성 및 출력\n"
      ]
    },
    {
      "cell_type": "code",
      "execution_count": null,
      "id": "123edcfa",
      "metadata": {
        "id": "123edcfa",
        "outputId": "30b84548-cb56-4bda-f6f7-27b7482b01af"
      },
      "outputs": [
        {
          "data": {
            "text/plain": [
              "tensor([1., 2., 3.])"
            ]
          },
          "execution_count": 11,
          "metadata": {},
          "output_type": "execute_result"
        }
      ],
      "source": [
        "# 1차원 텐서를 생성 (값: 1.0, 2.0, 3.0)\n",
        "tensor_1d = torch.tensor([1.0, 2.0, 3.0])\n",
        "tensor_1d\n",
        "# 생성된 텐서를 출력 -> tensor([1., 2., 3.])"
      ]
    },
    {
      "cell_type": "markdown",
      "id": "3f469388",
      "metadata": {
        "id": "3f469388"
      },
      "source": [
        "## 02-003 2D 텐서 생성 및 출력\n"
      ]
    },
    {
      "cell_type": "code",
      "execution_count": null,
      "id": "1e89eb1f",
      "metadata": {
        "id": "1e89eb1f",
        "outputId": "0f312050-f111-4b1f-ccd0-78510ba2faea"
      },
      "outputs": [
        {
          "data": {
            "text/plain": [
              "tensor([[1., 2.],\n",
              "        [3., 4.]])"
            ]
          },
          "execution_count": 12,
          "metadata": {},
          "output_type": "execute_result"
        }
      ],
      "source": [
        "# 2차원 텐서를 생성 (값: [[1.0, 2.0], [3.0, 4.0]])\n",
        "tensor_2d = torch.tensor([[1.0, 2.0],\n",
        "                          [3.0, 4.0]])\n",
        "tensor_2d\n",
        "# 생성된 텐서를 출력 ->tensor([[1., 2.],\n",
        "#                           [3., 4.]])"
      ]
    },
    {
      "cell_type": "markdown",
      "id": "65c04a3f",
      "metadata": {
        "id": "65c04a3f"
      },
      "source": [
        "## 02-004 텐서를 GPU로 이동\n"
      ]
    },
    {
      "cell_type": "code",
      "execution_count": null,
      "id": "b50525d7",
      "metadata": {
        "id": "b50525d7",
        "outputId": "ee25e8c6-f2c9-457e-be56-aa93697d2d02"
      },
      "outputs": [
        {
          "data": {
            "text/plain": [
              "device(type='cpu')"
            ]
          },
          "execution_count": 16,
          "metadata": {},
          "output_type": "execute_result"
        }
      ],
      "source": [
        "device = 'cuda' if torch.cuda.is_available() else 'cpu' # GPU 사용 가능 여부 확인\n",
        "tensor_1d = tensor_1d.to(device) # 1D 텐서 GPU로 이동\n",
        "tensor_1d.device\n",
        "\n",
        "# GPU : device(type='cuda', index=0)\n",
        "# CPU : device(type='cpu')"
      ]
    },
    {
      "cell_type": "markdown",
      "id": "eb743d8a",
      "metadata": {
        "id": "eb743d8a"
      },
      "source": [
        "## 02-005 NumPy 배열로부터 텐서 생성 및 dtype 지정\n"
      ]
    },
    {
      "cell_type": "code",
      "execution_count": null,
      "id": "8c1a186d",
      "metadata": {
        "id": "8c1a186d",
        "outputId": "347ffeaf-565d-4669-8cd0-ddd813e5798b"
      },
      "outputs": [
        {
          "data": {
            "text/plain": [
              "tensor([1., 2., 3.], dtype=torch.float64)"
            ]
          },
          "execution_count": 17,
          "metadata": {},
          "output_type": "execute_result"
        }
      ],
      "source": [
        "tensor_1d = torch.tensor([1, 2, 3], dtype=torch.float64)  # NumPy 배열로부터 텐서 생성 및 dtype을 float64로 지정\n",
        "tensor_1d  # 텐서 출력 -> tensor([1., 2., 3.], dtype=torch.float64)"
      ]
    },
    {
      "cell_type": "markdown",
      "id": "8065d9f0",
      "metadata": {
        "id": "8065d9f0"
      },
      "source": [
        "## 02-006 4차원 텐서의 2차원 변환\n"
      ]
    },
    {
      "cell_type": "code",
      "execution_count": null,
      "id": "d4553cb6",
      "metadata": {
        "id": "d4553cb6",
        "outputId": "efb792e3-397f-45da-a533-15061ec0bc3a"
      },
      "outputs": [
        {
          "data": {
            "text/plain": [
              "torch.Size([10, 3136])"
            ]
          },
          "execution_count": 18,
          "metadata": {},
          "output_type": "execute_result"
        }
      ],
      "source": [
        "x = torch.randn(10, 64, 7, 7)  # 4차원 텐서 생성: (10, 64, 7, 7)\n",
        "y = x.reshape(10, -1)  # 텐서를 (10, 64 * 7 * 7)으로 변환, 즉 2차원 텐서로 변경\n",
        "# -1은 나머지 차원을 자동으로 계산하게 하여 (10, 3136)으로 변경\n",
        "y.shape  # y의 차원은 (10, 3136)"
      ]
    },
    {
      "cell_type": "markdown",
      "id": "b7e7ddb3",
      "metadata": {
        "id": "b7e7ddb3"
      },
      "source": [
        "## 02-007 4차원 텐서의 차원 재배열\n"
      ]
    },
    {
      "cell_type": "code",
      "execution_count": null,
      "id": "7992fafe",
      "metadata": {
        "id": "7992fafe",
        "outputId": "c790c6ce-6e7e-466d-9089-017f4870bc32"
      },
      "outputs": [
        {
          "data": {
            "text/plain": [
              "torch.Size([10, 3, 28, 28])"
            ]
          },
          "execution_count": 19,
          "metadata": {},
          "output_type": "execute_result"
        }
      ],
      "source": [
        "x = torch.randn(10, 28, 28, 3)  # 4차원 텐서 생성: (10, 28, 28, 3)\n",
        "y = x.permute(0, 3, 1, 2)  # 차원의 순서를 (10, 3, 28, 28)로 재배열\n",
        "y.shape  # y의 차원은 (10, 3, 28, 28)"
      ]
    },
    {
      "cell_type": "markdown",
      "id": "5fbff4cc",
      "metadata": {
        "id": "5fbff4cc"
      },
      "source": [
        "## 02-008 1D 텐서에서 요소 선택\n"
      ]
    },
    {
      "cell_type": "code",
      "execution_count": null,
      "id": "d73cf814",
      "metadata": {
        "id": "d73cf814",
        "outputId": "0422004e-2d89-4096-e5b6-23e8039df4f5"
      },
      "outputs": [
        {
          "name": "stdout",
          "output_type": "stream",
          "text": [
            "tensor(10)\n",
            "tensor(40)\n"
          ]
        }
      ],
      "source": [
        "# 1D 텐서 생성\n",
        "tensor_1d = torch.tensor([10, 20, 30, 40])\n",
        "\n",
        "# 첫 번째 요소 선택 (Python 인덱스는 0부터 시작)\n",
        "print(tensor_1d[0]) # 출력: tensor(10)\n",
        "\n",
        "# 마지막 요소 선택\n",
        "print(tensor_1d[-1]) # 출력: tensor(40)"
      ]
    },
    {
      "cell_type": "markdown",
      "id": "18386471",
      "metadata": {
        "id": "18386471"
      },
      "source": [
        "## 02-009 2D 텐서에서 특정 요소 선택\n"
      ]
    },
    {
      "cell_type": "code",
      "execution_count": null,
      "id": "1eeca660",
      "metadata": {
        "id": "1eeca660",
        "outputId": "a6114a44-c1b0-499c-996b-5ae3d15170bf"
      },
      "outputs": [
        {
          "name": "stdout",
          "output_type": "stream",
          "text": [
            "tensor(2)\n",
            "tensor(9)\n"
          ]
        }
      ],
      "source": [
        "# 2D 텐서 생성\n",
        "tensor_2d = torch.tensor([[1, 2, 3], [4, 5, 6], [7, 8, 9]])\n",
        "\n",
        "# 첫 번째 행, 두 번째 열 요소 선택\n",
        "print(tensor_2d[0, 1]) # 출력: tensor(2)\n",
        "\n",
        "\n",
        "# 마지막 행, 마지막 열 요소 선택\n",
        "print(tensor_2d[-1, -1])# 출력: tensor(9)"
      ]
    },
    {
      "cell_type": "markdown",
      "id": "cf25a6f7",
      "metadata": {
        "id": "cf25a6f7"
      },
      "source": [
        "## 02-010 1D 텐서에서 슬라이싱으로 요소 선택\n"
      ]
    },
    {
      "cell_type": "code",
      "execution_count": null,
      "id": "1248e9cf",
      "metadata": {
        "id": "1248e9cf",
        "outputId": "b633ef17-c42d-4068-b812-753d3e6a5134"
      },
      "outputs": [
        {
          "data": {
            "text/plain": [
              "tensor([10, 20, 30, 40])"
            ]
          },
          "execution_count": 22,
          "metadata": {},
          "output_type": "execute_result"
        }
      ],
      "source": [
        "# 1D 텐서 생성\n",
        "tensor_1d = torch.tensor([10, 20, 30, 40, 50])\n",
        "\n",
        "# 처음부터 인덱스 3까지의 요소 선택\n",
        "tensor_1d[:4]  # 출력: tensor([10, 20, 30, 40])"
      ]
    },
    {
      "cell_type": "markdown",
      "id": "68b92bcf",
      "metadata": {
        "id": "68b92bcf"
      },
      "source": [
        "## 02-011 2D 텐서에서 슬라이싱으로 요소 선택\n"
      ]
    },
    {
      "cell_type": "code",
      "execution_count": null,
      "id": "b6cacc7a",
      "metadata": {
        "id": "b6cacc7a",
        "outputId": "f4a53905-e0f9-4bc9-ee9f-26ebcc7718d6"
      },
      "outputs": [
        {
          "name": "stdout",
          "output_type": "stream",
          "text": [
            "tensor([1, 2, 3])\n",
            "tensor([1, 4, 7])\n"
          ]
        }
      ],
      "source": [
        "# 2D 텐서 슬라이싱\n",
        "tensor_2d = torch.tensor([[1, 2, 3], [4, 5, 6], [7, 8, 9]])\n",
        "\n",
        "# 첫 번째 행 선택\n",
        "print(tensor_2d[0, :])  # 출력: tensor([1, 2, 3])\n",
        "\n",
        "# 첫 번째 열 선택\n",
        "print(tensor_2d[:, 0])  # 출력: tensor([1, 4, 7])"
      ]
    },
    {
      "cell_type": "markdown",
      "id": "9c204cf1",
      "metadata": {
        "id": "9c204cf1"
      },
      "source": [
        "## 02-012 1D 텐서에서 특정 요소 수정\n"
      ]
    },
    {
      "cell_type": "code",
      "execution_count": null,
      "id": "48282dc7",
      "metadata": {
        "id": "48282dc7",
        "outputId": "1841ceca-4f1a-4029-b9ed-4b94f20c7801"
      },
      "outputs": [
        {
          "name": "stdout",
          "output_type": "stream",
          "text": [
            "tensor([100,  20,  30,  40,  50])\n",
            "tensor([100, 200, 300, 400,  50])\n"
          ]
        }
      ],
      "source": [
        "# 1D 텐서 생성\n",
        "tensor = torch.tensor([10, 20, 30, 40, 50])\n",
        "\n",
        "# 인덱스 0 위치의 요소 수정\n",
        "tensor[0] = 100\n",
        "print(tensor)  # 출력: tensor([100,  20,  30,  40,  50])\n",
        "\n",
        "\n",
        "# 인덱스 1부터 3까지의 요소 수정\n",
        "tensor[1:4] = torch.tensor([200, 300, 400])\n",
        "print(tensor)  # 출력: tensor([100, 200, 300, 400,  50])"
      ]
    },
    {
      "cell_type": "markdown",
      "id": "18a13447",
      "metadata": {
        "id": "18a13447"
      },
      "source": [
        "## 02-013 2D 텐서에서 행의 값 수정\n"
      ]
    },
    {
      "cell_type": "code",
      "execution_count": null,
      "id": "d67e541a",
      "metadata": {
        "id": "d67e541a",
        "outputId": "8f6a908a-0492-4f4f-f67d-138f4b18aea8"
      },
      "outputs": [
        {
          "name": "stdout",
          "output_type": "stream",
          "text": [
            "tensor([[0, 0, 0],\n",
            "        [4, 5, 6],\n",
            "        [7, 8, 9]])\n"
          ]
        }
      ],
      "source": [
        "# 2D 텐서 생성\n",
        "tensor_2d = torch.tensor([[1, 2, 3], [4, 5, 6], [7, 8, 9]])\n",
        "\n",
        "# 첫 번째 행을 모두 0으로 수정\n",
        "tensor_2d[0, :] = 0\n",
        "print(tensor_2d)\n",
        "# 출력: tensor([[0, 0, 0],\n",
        "#               [4, 5, 6],\n",
        "#               [7, 8, 9]])"
      ]
    },
    {
      "cell_type": "markdown",
      "id": "10eecd95",
      "metadata": {
        "id": "10eecd95"
      },
      "source": [
        "## 02-014 요소별 덧셈\n"
      ]
    },
    {
      "cell_type": "code",
      "execution_count": null,
      "id": "3ba72edf",
      "metadata": {
        "id": "3ba72edf",
        "outputId": "91eea894-d4fd-4fa8-e265-ff7e7d2992d1"
      },
      "outputs": [
        {
          "data": {
            "text/plain": [
              "tensor([5, 7, 9])"
            ]
          },
          "execution_count": 26,
          "metadata": {},
          "output_type": "execute_result"
        }
      ],
      "source": [
        "# Tensor 생성\n",
        "x = torch.tensor([1, 2, 3])\n",
        "y = torch.tensor([4, 5, 6])\n",
        "\n",
        "# 요소별 덧셈\n",
        "add_result = x + y  # 또는 torch.add(x, y)\n",
        "add_result  # 출력: tensor([5, 7, 9])"
      ]
    },
    {
      "cell_type": "markdown",
      "id": "ffaf1682",
      "metadata": {
        "id": "ffaf1682"
      },
      "source": [
        "## 02-015 브로드캐스팅을 통한 요소별 덧셈\n"
      ]
    },
    {
      "cell_type": "code",
      "execution_count": null,
      "id": "45df2431",
      "metadata": {
        "id": "45df2431",
        "outputId": "44684dc4-55ac-46a1-9f30-1368f4ea793f"
      },
      "outputs": [
        {
          "data": {
            "text/plain": [
              "tensor([[2, 4, 6],\n",
              "        [5, 7, 9]])"
            ]
          },
          "execution_count": 28,
          "metadata": {},
          "output_type": "execute_result"
        }
      ],
      "source": [
        "# Tensor 생성\n",
        "x = torch.tensor([[1, 2, 3], [4, 5, 6]])\n",
        "y = torch.tensor([1, 2, 3])\n",
        "\n",
        "# 브로드캐스팅을 통한 요소별 덧셈\n",
        "result = x + y\n",
        "result\n",
        "# 출력: tensor([[2, 4, 6],\n",
        "#               [5, 7, 9]])"
      ]
    },
    {
      "cell_type": "markdown",
      "id": "61f44188",
      "metadata": {
        "id": "61f44188"
      },
      "source": [
        "## 02-016 텐서에서 최대값 구하기\n"
      ]
    },
    {
      "cell_type": "code",
      "execution_count": null,
      "id": "9ad7225d",
      "metadata": {
        "id": "9ad7225d",
        "outputId": "5eeda20c-16d9-49df-8536-c39b623baaa1"
      },
      "outputs": [
        {
          "name": "stdout",
          "output_type": "stream",
          "text": [
            "tensor(9)\n",
            "torch.return_types.max(\n",
            "values=tensor([7, 8, 9]),\n",
            "indices=tensor([0, 1, 2]))\n",
            "tensor([7, 8, 6])\n"
          ]
        }
      ],
      "source": [
        "# Tensor 생성\n",
        "x = torch.tensor([[7, 1, 3],[2, 8, 6],[4, 5, 9]])\n",
        "# tensor([[7, 1, 3],\n",
        "#         [2, 8, 6],\n",
        "#         [4, 5, 9]])\n",
        "\n",
        "# 모든 요소 중 최대값\n",
        "print(torch.max(x))  # 출력: tensor(9)\n",
        "\n",
        "# 특정 차원에서 최대값과 인덱스\n",
        "print(torch.max(x, dim=1))  # 출력 : torch.return_types.max(values=tensor([7, 8, 9]), indices=tensor([0, 1, 2]))\n",
        "\n",
        "# 두 Tensor간 원소별 최대 값 반환\n",
        "print(torch.max(x[0], x[1]))  # 출력 : tensor([7, 8, 6])"
      ]
    },
    {
      "cell_type": "markdown",
      "id": "5472e9c4",
      "metadata": {
        "id": "5472e9c4"
      },
      "source": [
        "## 연습문제-02-001 1차원 텐서 생성\n"
      ]
    },
    {
      "cell_type": "code",
      "execution_count": null,
      "id": "b7237384",
      "metadata": {
        "id": "b7237384",
        "outputId": "66a2e41f-c081-41c7-a1ea-47b5e93069a0"
      },
      "outputs": [
        {
          "data": {
            "text/plain": [
              "tensor([0, 1, 2, 3, 4, 5, 6, 7, 8, 9])"
            ]
          },
          "execution_count": 30,
          "metadata": {},
          "output_type": "execute_result"
        }
      ],
      "source": [
        "# 1차원 텐서 tensor_1d을 0부터 9까지의 정수로 생성\n",
        "tensor_1d =\n",
        "tensor_1d  # 생성된 텐서를 출력"
      ]
    },
    {
      "cell_type": "markdown",
      "id": "0a818c66",
      "metadata": {
        "id": "0a818c66"
      },
      "source": [
        "## 연습문제-02-002 텐서 속성 확인\n"
      ]
    },
    {
      "cell_type": "code",
      "execution_count": null,
      "id": "79316732",
      "metadata": {
        "id": "79316732",
        "outputId": "0ee66a76-f15b-4a17-d37a-3e4e57a6e75c"
      },
      "outputs": [
        {
          "data": {
            "text/plain": [
              "(torch.int64, device(type='cpu'))"
            ]
          },
          "execution_count": 31,
          "metadata": {},
          "output_type": "execute_result"
        }
      ],
      "source": [
        "# 1차원 텐서 tensor_1d의 데이터 타입과 할당된 장치를 확인합니다.\n"
      ]
    },
    {
      "cell_type": "markdown",
      "id": "31e24a0e",
      "metadata": {
        "id": "31e24a0e"
      },
      "source": [
        "## 연습문제-02-003 텐서의 크기 변경 및 덧셈\n"
      ]
    },
    {
      "cell_type": "code",
      "execution_count": null,
      "id": "64b18414",
      "metadata": {
        "id": "64b18414",
        "outputId": "c7a3bb79-d3cd-47e5-d68b-53f214c99727"
      },
      "outputs": [
        {
          "data": {
            "text/plain": [
              "tensor([[0, 1, 2, 3, 4],\n",
              "        [5, 6, 7, 8, 9]])"
            ]
          },
          "execution_count": 32,
          "metadata": {},
          "output_type": "execute_result"
        }
      ],
      "source": [
        "# 1차원 텐서 tensor_1d의 크기를 2x5로 변경\n",
        "tensor_2x5 =   # 1차원 텐서를 2x5 텐서로 변경\n",
        "tensor_2x5"
      ]
    },
    {
      "cell_type": "markdown",
      "id": "2b208467",
      "metadata": {
        "id": "2b208467"
      },
      "source": [
        "## 연습문제-02-004 텐서에서 최대값과 위치 찾기\n"
      ]
    },
    {
      "cell_type": "code",
      "execution_count": null,
      "id": "a1619dd8",
      "metadata": {
        "id": "a1619dd8",
        "outputId": "ebc0901e-789a-4298-91ec-92ca94a13296"
      },
      "outputs": [
        {
          "name": "stdout",
          "output_type": "stream",
          "text": [
            "tensor(9)\n",
            "torch.return_types.max(\n",
            "values=tensor([4, 9]),\n",
            "indices=tensor([4, 4]))\n",
            "tensor([5, 6, 7, 8, 9])\n"
          ]
        }
      ],
      "source": [
        "# 모든 요소 중 최대값\n",
        "print()  # 출력: tensor(9)\n",
        "\n",
        "# 특정 차원에서 최대값과 인덱스\n",
        "print()  # 출력 : torch.return_types.max(values=tensor([4, 9]), indices=tensor([4, 4]))\n",
        "\n",
        "# 두 Tensor간 원소별 최대 값 반환\n",
        "print()  # 출력 : tensor([5, 6, 7, 8, 9])"
      ]
    },
    {
      "cell_type": "markdown",
      "id": "5e58e62b",
      "metadata": {
        "id": "5e58e62b"
      },
      "source": [
        "---"
      ]
    },
    {
      "cell_type": "markdown",
      "id": "1a41be90",
      "metadata": {
        "id": "1a41be90"
      },
      "source": [
        "# 03. 인공지능 (Perceptron)"
      ]
    },
    {
      "cell_type": "markdown",
      "id": "19b5caf7",
      "metadata": {
        "id": "19b5caf7"
      },
      "source": [
        "## 03-001 모듈 설정\n"
      ]
    },
    {
      "cell_type": "code",
      "execution_count": null,
      "id": "9159c019",
      "metadata": {
        "id": "9159c019"
      },
      "outputs": [],
      "source": [
        "%%capture\n",
        "!pip install JAEN -qU"
      ]
    },
    {
      "cell_type": "code",
      "execution_count": null,
      "id": "2c498806",
      "metadata": {
        "id": "2c498806"
      },
      "outputs": [],
      "source": [
        "import torch\n",
        "import torch.nn as nn\n",
        "\n",
        "from JAEN.models import Perceptron\n",
        "from JAEN.utils import plot_activation_function"
      ]
    },
    {
      "cell_type": "markdown",
      "id": "46b9cf20",
      "metadata": {
        "id": "46b9cf20"
      },
      "source": [
        "## 03-002 AND 문제를 위한 입력과 출력 데이터 생성\n"
      ]
    },
    {
      "cell_type": "code",
      "execution_count": null,
      "id": "d02c5e18",
      "metadata": {
        "id": "d02c5e18"
      },
      "outputs": [],
      "source": [
        "# AND 문제에 사용할 입력과 출력 데이터 생성\n",
        "X = torch.tensor([[0.0, 0.0],\n",
        "                  [0.0, 1.0],\n",
        "                  [1.0, 0.0],\n",
        "                  [1.0, 1.0]])\n",
        "\n",
        "y = torch.tensor([[0.0],\n",
        "                  [0.0],\n",
        "                  [0.0],\n",
        "                  [1.0]])"
      ]
    },
    {
      "cell_type": "markdown",
      "id": "63095a65",
      "metadata": {
        "id": "63095a65"
      },
      "source": [
        "## 03-003 AND 문제를 위한 단층 퍼셉트론 구성\n"
      ]
    },
    {
      "cell_type": "code",
      "execution_count": null,
      "id": "e4b1754c",
      "metadata": {
        "id": "e4b1754c",
        "outputId": "690c88a2-3b31-45bf-b7c5-d8a2860e4685"
      },
      "outputs": [
        {
          "name": "stdout",
          "output_type": "stream",
          "text": [
            "Epoch [2000/10000], Loss: 0.0805\n",
            "Epoch [4000/10000], Loss: 0.0427\n",
            "Epoch [6000/10000], Loss: 0.0289\n",
            "Epoch [8000/10000], Loss: 0.0217\n",
            "Epoch [10000/10000], Loss: 0.0174\n"
          ]
        }
      ],
      "source": [
        "# 단층 퍼셉트론 구성\n",
        "layer = nn.Linear(2, 1)  # 입력이 2개, 출력이 1개인 선형 레이어 (입력층 > 출력층)\n",
        "SLP = Perceptron(layer, X=X, y=y)"
      ]
    },
    {
      "cell_type": "markdown",
      "id": "39c6ef05",
      "metadata": {
        "id": "39c6ef05"
      },
      "source": [
        "## 03-004 AND 문제를 위한 단층 퍼셉트론 결과 확인\n"
      ]
    },
    {
      "cell_type": "code",
      "execution_count": null,
      "id": "199882a2",
      "metadata": {
        "id": "199882a2",
        "outputId": "04d0cfef-60b6-4479-d763-2035c8a0d96a"
      },
      "outputs": [
        {
          "data": {
            "text/plain": [
              "tensor([[1.2390e-05],\n",
              "        [2.0208e-02],\n",
              "        [2.0208e-02],\n",
              "        [9.7170e-01]], grad_fn=<SigmoidBackward0>)"
            ]
          },
          "execution_count": 41,
          "metadata": {},
          "output_type": "execute_result"
        }
      ],
      "source": [
        "# 단층 퍼셉트론 결과 확인\n",
        "SLP(X)\n",
        "\n",
        "# 출력 결과\n",
        "# tensor([[1.2580e-05],\n",
        "#         [2.0308e-02],\n",
        "#         [2.0308e-02],\n",
        "#         [9.7156e-01]], grad_fn=<SigmoidBackward0>)"
      ]
    },
    {
      "cell_type": "markdown",
      "id": "9239ef94",
      "metadata": {
        "id": "9239ef94"
      },
      "source": [
        "## 연습문제-03-001 OR 문제를 위한 입력과 출력 데이터 생성\n"
      ]
    },
    {
      "cell_type": "code",
      "execution_count": null,
      "id": "74c16668",
      "metadata": {
        "id": "74c16668"
      },
      "outputs": [],
      "source": [
        "# OR 문제에 사용할 입력과 출력 데이터 생성\n"
      ]
    },
    {
      "cell_type": "markdown",
      "id": "c08e4058",
      "metadata": {
        "id": "c08e4058"
      },
      "source": [
        "## 연습문제-03-002 OR 문제를 위한 단층 퍼셉트론 구성\n"
      ]
    },
    {
      "cell_type": "code",
      "execution_count": null,
      "id": "0b525ec7",
      "metadata": {
        "id": "0b525ec7",
        "outputId": "4e397de7-6318-402f-85bb-f962bb319b94"
      },
      "outputs": [
        {
          "name": "stdout",
          "output_type": "stream",
          "text": [
            "Epoch [2000/10000], Loss: 0.0458\n",
            "Epoch [4000/10000], Loss: 0.0233\n",
            "Epoch [6000/10000], Loss: 0.0155\n",
            "Epoch [8000/10000], Loss: 0.0116\n",
            "Epoch [10000/10000], Loss: 0.0092\n"
          ]
        }
      ],
      "source": [
        "# 단층 퍼셉트론 구성\n",
        "\n",
        "# 입력이 2개, 출력이 1개인 선형 레이어 (입력층 > 출력층)\n"
      ]
    },
    {
      "cell_type": "markdown",
      "id": "a935746a",
      "metadata": {
        "id": "a935746a"
      },
      "source": [
        "## 연습문제-03-003 OR 문제를 위한 단층 퍼셉트론 결과 확인\n"
      ]
    },
    {
      "cell_type": "code",
      "execution_count": null,
      "id": "a0517eb9",
      "metadata": {
        "id": "a0517eb9",
        "outputId": "d564e262-25a4-4a39-a418-b5b776775037"
      },
      "outputs": [
        {
          "data": {
            "text/plain": [
              "tensor([[0.9918]], grad_fn=<SigmoidBackward0>)"
            ]
          },
          "execution_count": 44,
          "metadata": {},
          "output_type": "execute_result"
        }
      ],
      "source": [
        "# 단층 퍼셉트론 결과 확인\n",
        "TEST = torch.tensor([[1.0, 0.0]])\n",
        "\n"
      ]
    },
    {
      "cell_type": "markdown",
      "id": "fb5c73ec",
      "metadata": {
        "id": "fb5c73ec"
      },
      "source": [
        "## 03-005 XOR 문제를 위한 입력과 출력 데이터 생성\n"
      ]
    },
    {
      "cell_type": "code",
      "execution_count": null,
      "id": "c45f9321",
      "metadata": {
        "id": "c45f9321"
      },
      "outputs": [],
      "source": [
        "# XOR 문제에 사용할 입력과 출력 데이터 생성\n",
        "X = torch.tensor([[0.0, 0.0],\n",
        "                  [0.0, 1.0],\n",
        "                  [1.0, 0.0],\n",
        "                  [1.0, 1.0]])\n",
        "\n",
        "y = torch.tensor([[0.0],\n",
        "                  [1.0],\n",
        "                  [1.0],\n",
        "                  [0.0]])"
      ]
    },
    {
      "cell_type": "markdown",
      "id": "cf014b92",
      "metadata": {
        "id": "cf014b92"
      },
      "source": [
        "## 03-006 XOR 문제를 위한 단층 퍼셉트론 구성\n"
      ]
    },
    {
      "cell_type": "code",
      "execution_count": null,
      "id": "a47a69cf",
      "metadata": {
        "id": "a47a69cf",
        "outputId": "0e8e4765-c7c3-4ba8-eaf3-f02c97af664d"
      },
      "outputs": [
        {
          "name": "stdout",
          "output_type": "stream",
          "text": [
            "Epoch [2000/10000], Loss: 0.6931\n",
            "Epoch [4000/10000], Loss: 0.6931\n",
            "Epoch [6000/10000], Loss: 0.6931\n",
            "Epoch [8000/10000], Loss: 0.6931\n",
            "Epoch [10000/10000], Loss: 0.6931\n"
          ]
        }
      ],
      "source": [
        "# 단층 퍼셉트론 구성\n",
        "layer = nn.Linear(2, 1)  # 입력이 2개, 출력이 1개인 선형 레이어 (입력층 > 출력층)\n",
        "SLP = Perceptron(layer, X=X, y=y)"
      ]
    },
    {
      "cell_type": "markdown",
      "id": "dc862de3",
      "metadata": {
        "id": "dc862de3"
      },
      "source": [
        "## 03-007 XOR 문제를 위한 단층 퍼셉트론 결과 확인\n"
      ]
    },
    {
      "cell_type": "code",
      "execution_count": null,
      "id": "0ec911ad",
      "metadata": {
        "id": "0ec911ad",
        "outputId": "33cdea8e-8a16-4545-c1f0-d8ca32103e67"
      },
      "outputs": [
        {
          "data": {
            "text/plain": [
              "tensor([[0.5000],\n",
              "        [0.5000],\n",
              "        [0.5000],\n",
              "        [0.5000]], grad_fn=<SigmoidBackward0>)"
            ]
          },
          "execution_count": 47,
          "metadata": {},
          "output_type": "execute_result"
        }
      ],
      "source": [
        "# 단층 퍼셉트론 결과 확인\n",
        "SLP(X)\n",
        "\n",
        "# 출력결과\n",
        "# tensor([[0.5000],\n",
        "#         [0.5000],\n",
        "#         [0.5000],\n",
        "#         [0.5008]], grad_fn=<SigmoidBackward0>)"
      ]
    },
    {
      "cell_type": "markdown",
      "id": "a18b07c6",
      "metadata": {
        "id": "a18b07c6"
      },
      "source": [
        "## 03-008 다층 퍼셉트론 구성\n"
      ]
    },
    {
      "cell_type": "code",
      "execution_count": null,
      "id": "1aa6527e",
      "metadata": {
        "id": "1aa6527e",
        "outputId": "bb6a7dfb-c8c3-4fc9-82b6-bbd11ab7b41b"
      },
      "outputs": [
        {
          "name": "stdout",
          "output_type": "stream",
          "text": [
            "Epoch [2000/10000], Loss: 0.6925\n",
            "Epoch [4000/10000], Loss: 0.6668\n",
            "Epoch [6000/10000], Loss: 0.1937\n",
            "Epoch [8000/10000], Loss: 0.0450\n",
            "Epoch [10000/10000], Loss: 0.0231\n"
          ]
        }
      ],
      "source": [
        "# 다층 퍼셉트론 구성\n",
        "layer1 = nn.Linear(2, 3)  # 입력이 2개, 출력이 3개인 선형 레이어 (입력층 > 은닉층)\n",
        "layer2 = nn.Linear(3, 1)  # 입력이 3개, 출력이 1개인 선형 레이어 (은닉층 > 출력층)\n",
        "MLP = Perceptron(layer1, layer2, X=X, y=y)"
      ]
    },
    {
      "cell_type": "markdown",
      "id": "0b9b7605",
      "metadata": {
        "id": "0b9b7605"
      },
      "source": [
        "## 03-009 다층 퍼셉트론 결과 확인\n"
      ]
    },
    {
      "cell_type": "code",
      "execution_count": null,
      "id": "d684b230",
      "metadata": {
        "id": "d684b230",
        "outputId": "c619bacf-4aa3-40ce-8a51-5228a79bdac6"
      },
      "outputs": [
        {
          "data": {
            "text/plain": [
              "tensor([[0.0223],\n",
              "        [0.9701],\n",
              "        [0.9858],\n",
              "        [0.0249]], grad_fn=<SigmoidBackward0>)"
            ]
          },
          "execution_count": 49,
          "metadata": {},
          "output_type": "execute_result"
        }
      ],
      "source": [
        "# 다층 퍼셉트론 결과 확인\n",
        "\n",
        "MLP(X)\n",
        "\n",
        "# 출력결과\n",
        "# tensor([[0.0223],\n",
        "#         [0.9701],\n",
        "#         [0.9858],\n",
        "#         [0.0249]], grad_fn=<SigmoidBackward0>)"
      ]
    },
    {
      "cell_type": "markdown",
      "id": "cc1db734",
      "metadata": {
        "id": "cc1db734"
      },
      "source": [
        "## 03-010 시그모이드 활성화 함수 구현 및 시각화\n"
      ]
    },
    {
      "cell_type": "code",
      "execution_count": null,
      "id": "6d8eb82f",
      "metadata": {
        "id": "6d8eb82f",
        "outputId": "18895733-8d2c-4673-b40d-b98966d4b6d9"
      },
      "outputs": [
        {
          "data": {
            "image/png": "[encoded data removed]",
            "text/plain": [
              "<Figure size 600x400 with 1 Axes>"
            ]
          },
          "metadata": {},
          "output_type": "display_data"
        },
        {
          "data": {
            "image/png": "[encoded data removed]",
            "text/plain": [
              "<Figure size 600x400 with 1 Axes>"
            ]
          },
          "metadata": {},
          "output_type": "display_data"
        }
      ],
      "source": [
        "def sigmoid(x):\n",
        "    return 1 / (1 + torch.exp(-x))\n",
        "\n",
        "plot_activation_function(sigmoid)\n",
        "plot_activation_function(torch.sigmoid)"
      ]
    },
    {
      "cell_type": "markdown",
      "id": "7accbd9f",
      "metadata": {
        "id": "7accbd9f"
      },
      "source": [
        "## 03-011 Tanh 활성화 함수 구현 및 시각화\n"
      ]
    },
    {
      "cell_type": "code",
      "execution_count": null,
      "id": "a2ca38d0",
      "metadata": {
        "id": "a2ca38d0",
        "outputId": "78694956-4aee-44b4-c59c-976cd4601114"
      },
      "outputs": [
        {
          "data": {
            "image/png": "[encoded data removed]",
            "text/plain": [
              "<Figure size 600x400 with 1 Axes>"
            ]
          },
          "metadata": {},
          "output_type": "display_data"
        },
        {
          "data": {
            "image/png": "[encoded data removed]",
            "text/plain": [
              "<Figure size 600x400 with 1 Axes>"
            ]
          },
          "metadata": {},
          "output_type": "display_data"
        }
      ],
      "source": [
        "def tanh(x):\n",
        "    return (torch.exp(x) - torch.exp(-x)) / (torch.exp(x) + torch.exp(-x))\n",
        "\n",
        "plot_activation_function(tanh)\n",
        "plot_activation_function(torch.tanh)"
      ]
    },
    {
      "cell_type": "markdown",
      "id": "a537bcd4",
      "metadata": {
        "id": "a537bcd4"
      },
      "source": [
        "## 03-012 ReLU 활성화 함수 구현 및 시각화\n"
      ]
    },
    {
      "cell_type": "code",
      "execution_count": null,
      "id": "7c0e7e0a",
      "metadata": {
        "id": "7c0e7e0a",
        "outputId": "8d4edf96-a6c4-4e82-ea53-8ccc2fd7d52c"
      },
      "outputs": [
        {
          "data": {
            "image/png": "[encoded data removed]",
            "text/plain": [
              "<Figure size 600x400 with 1 Axes>"
            ]
          },
          "metadata": {},
          "output_type": "display_data"
        },
        {
          "data": {
            "image/png": "[encoded data removed]",
            "text/plain": [
              "<Figure size 600x400 with 1 Axes>"
            ]
          },
          "metadata": {},
          "output_type": "display_data"
        }
      ],
      "source": [
        "def relu(x):\n",
        "    return torch.maximum(torch.tensor(0.0), x)\n",
        "\n",
        "plot_activation_function(relu)\n",
        "plot_activation_function(torch.relu)"
      ]
    },
    {
      "cell_type": "markdown",
      "id": "fc869dba",
      "metadata": {
        "id": "fc869dba"
      },
      "source": [
        "## 03-013 Leaky ReLU 활성화 함수 구현 및 시각화\n"
      ]
    },
    {
      "cell_type": "code",
      "execution_count": null,
      "id": "d718f374",
      "metadata": {
        "id": "d718f374",
        "outputId": "f19f1776-1b88-4db8-b4da-bd8dbfb3b875"
      },
      "outputs": [
        {
          "data": {
            "image/png": "[encoded data removed]",
            "text/plain": [
              "<Figure size 600x400 with 1 Axes>"
            ]
          },
          "metadata": {},
          "output_type": "display_data"
        },
        {
          "data": {
            "image/png": "[encoded data removed]",
            "text/plain": [
              "<Figure size 600x400 with 1 Axes>"
            ]
          },
          "metadata": {},
          "output_type": "display_data"
        }
      ],
      "source": [
        "def leaky_relu(x, alpha=0.01):\n",
        "    return torch.where(x > 0, x, alpha * x)\n",
        "\n",
        "plot_activation_function(leaky_relu)\n",
        "plot_activation_function(torch.nn.functional.leaky_relu)"
      ]
    },
    {
      "cell_type": "markdown",
      "id": "7ead1812",
      "metadata": {
        "id": "7ead1812"
      },
      "source": [
        "## 03-014 ELU 활성화 함수 구현 및 시각화\n"
      ]
    },
    {
      "cell_type": "code",
      "execution_count": null,
      "id": "fa00a5fd",
      "metadata": {
        "id": "fa00a5fd",
        "outputId": "1b8c8712-606b-4d30-91a8-b536cb2af757"
      },
      "outputs": [
        {
          "data": {
            "image/png": "[encoded data removed]",
            "text/plain": [
              "<Figure size 600x400 with 1 Axes>"
            ]
          },
          "metadata": {},
          "output_type": "display_data"
        },
        {
          "data": {
            "image/png": "[encoded data removed]",
            "text/plain": [
              "<Figure size 600x400 with 1 Axes>"
            ]
          },
          "metadata": {},
          "output_type": "display_data"
        }
      ],
      "source": [
        "def elu(x, alpha=1.0):\n",
        "    return torch.where(x > 0, x, alpha * (torch.exp(x) - 1))\n",
        "\n",
        "plot_activation_function(elu)\n",
        "plot_activation_function(torch.nn.functional.elu)"
      ]
    },
    {
      "cell_type": "markdown",
      "id": "f97e1e70",
      "metadata": {
        "id": "f97e1e70"
      },
      "source": [
        "## 03-015 requires_grad=True로 설정된 텐서 생성\n"
      ]
    },
    {
      "cell_type": "code",
      "execution_count": null,
      "id": "343c1710",
      "metadata": {
        "id": "343c1710",
        "outputId": "b8898709-70b5-43f4-864b-26c0d746f165"
      },
      "outputs": [
        {
          "data": {
            "text/plain": [
              "tensor([2., 3.], requires_grad=True)"
            ]
          },
          "execution_count": 55,
          "metadata": {},
          "output_type": "execute_result"
        }
      ],
      "source": [
        "# requires_grad=True로 설정된 텐서 생성\n",
        "x = torch.tensor([2.0, 3.0], requires_grad=True)\n",
        "x"
      ]
    },
    {
      "cell_type": "markdown",
      "id": "94d64dcb",
      "metadata": {
        "id": "94d64dcb"
      },
      "source": [
        "## 03-016 텐서의 연산 및 역전파 수행\n"
      ]
    },
    {
      "cell_type": "code",
      "execution_count": null,
      "id": "225ab288",
      "metadata": {
        "id": "225ab288"
      },
      "outputs": [],
      "source": [
        "# 텐서의 연산\n",
        "y = x ** 2  # y = [4, 9]\n",
        "z = y.sum()  # z = 13\n",
        "\n",
        "# 역전파 수행\n",
        "z.backward()"
      ]
    },
    {
      "cell_type": "markdown",
      "id": "55c00367",
      "metadata": {
        "id": "55c00367"
      },
      "source": [
        "## 03-017 텐서의 기울기(gradient) 계산\n"
      ]
    },
    {
      "cell_type": "code",
      "execution_count": null,
      "id": "15450c57",
      "metadata": {
        "id": "15450c57",
        "outputId": "5ab2d818-3995-4564-ed2d-1a5221c99ccf"
      },
      "outputs": [
        {
          "data": {
            "text/plain": [
              "tensor([4., 6.])"
            ]
          },
          "execution_count": 57,
          "metadata": {},
          "output_type": "execute_result"
        }
      ],
      "source": [
        "# x에 대한 z의 그래디언트 (z가 x에 대해 어떻게 변화하는지를 계산, 편미분 수행)\n",
        "x.grad  # 출력: tensor([4., 6.])\n",
        "\n",
        "# z = x1^2 + x2^2\n",
        "# dz/dx1 = 2 * x1 = 2 * 2 = 4\n",
        "# dz/dx2 = 2 * x2 = 2 * 3 = 6"
      ]
    },
    {
      "cell_type": "markdown",
      "id": "f09cbad1",
      "metadata": {
        "id": "f09cbad1"
      },
      "source": [
        "## 03-018 DataLoader와 Dataset 모듈 임포트\n"
      ]
    },
    {
      "cell_type": "code",
      "execution_count": null,
      "id": "ba6a46fe",
      "metadata": {
        "id": "ba6a46fe"
      },
      "outputs": [],
      "source": [
        "import torch\n",
        "from torch.utils.data import DataLoader, Dataset"
      ]
    },
    {
      "cell_type": "markdown",
      "id": "71c48060",
      "metadata": {
        "id": "71c48060"
      },
      "source": [
        "## 03-019 커스텀 데이터셋 클래스 구현\n"
      ]
    },
    {
      "cell_type": "code",
      "execution_count": null,
      "id": "a632eb8f",
      "metadata": {
        "id": "a632eb8f"
      },
      "outputs": [],
      "source": [
        "class CustomDataset(Dataset):\n",
        "    def __init__(self, data, labels):\n",
        "        self.data = data\n",
        "        self.labels = labels\n",
        "\n",
        "    def __len__(self):\n",
        "        return len(self.data)\n",
        "\n",
        "    def __getitem__(self, idx):\n",
        "        x = self.data[idx]\n",
        "        y = self.labels[idx]\n",
        "        return x, y"
      ]
    },
    {
      "cell_type": "markdown",
      "id": "da4685a9",
      "metadata": {
        "id": "da4685a9"
      },
      "source": [
        "## 03-020 커스텀 데이터셋과 DataLoader 생성\n"
      ]
    },
    {
      "cell_type": "code",
      "execution_count": null,
      "id": "ffb4b7d9",
      "metadata": {
        "id": "ffb4b7d9"
      },
      "outputs": [],
      "source": [
        "# 예시 데이터\n",
        "data = torch.randn(100, 3)  # 100개의 샘플, 각 샘플은 3차원 벡터\n",
        "labels = torch.randint(0, 2, (100,))  # 이진 분류를 위한 100개의 레이블\n",
        "\n",
        "# 데이터셋 및 DataLoader 생성\n",
        "dataset = CustomDataset(data, labels)\n",
        "dataloader = DataLoader(dataset, batch_size=3)"
      ]
    },
    {
      "cell_type": "markdown",
      "id": "63453538",
      "metadata": {
        "id": "63453538"
      },
      "source": [
        "## 03-021 DataLoader에서 배치 조회\n"
      ]
    },
    {
      "cell_type": "code",
      "execution_count": null,
      "id": "002a1397",
      "metadata": {
        "id": "002a1397",
        "outputId": "ae8e6d4a-3a25-461b-a1a4-5c9144991295"
      },
      "outputs": [
        {
          "data": {
            "text/plain": [
              "(tensor([[ 0.2412,  1.4493,  0.3547],\n",
              "         [-1.0020,  0.3238,  0.8968],\n",
              "         [ 2.4815,  0.3455,  1.5208]]),\n",
              " tensor([1, 1, 1]))"
            ]
          },
          "execution_count": 226,
          "metadata": {},
          "output_type": "execute_result"
        }
      ],
      "source": [
        "# DataLoader에서 모든 배치를 리스트로 변환\n",
        "all_batches = list(dataloader)\n",
        "batch_data, batch_labels = all_batches[0]  # 첫번째 배치 조회\n",
        "batch_data, batch_labels"
      ]
    },
    {
      "cell_type": "markdown",
      "id": "e1f68b47",
      "metadata": {
        "id": "e1f68b47"
      },
      "source": [
        "## 03-022 DataLoader에서 마지막 배치 조회\n"
      ]
    },
    {
      "cell_type": "code",
      "execution_count": null,
      "id": "a55b5098",
      "metadata": {
        "id": "a55b5098",
        "outputId": "a9e0a1b5-68d7-4363-e104-6c544fce4a9f"
      },
      "outputs": [
        {
          "data": {
            "text/plain": [
              "(tensor([[ 1.2320,  1.1382, -0.9016]]), tensor([1]))"
            ]
          },
          "execution_count": 227,
          "metadata": {},
          "output_type": "execute_result"
        }
      ],
      "source": [
        "batch_data, batch_labels = all_batches[-1]  # 마지막 배치 조회\n",
        "batch_data, batch_labels"
      ]
    },
    {
      "cell_type": "markdown",
      "id": "be942dd7",
      "metadata": {
        "id": "be942dd7"
      },
      "source": [
        "## 03-023 DataLoader에서 변경된 배치 크기로 마지막 배치 조회\n"
      ]
    },
    {
      "cell_type": "code",
      "execution_count": null,
      "id": "2a6524ed",
      "metadata": {
        "id": "2a6524ed",
        "outputId": "e7738773-c4fa-4d7b-951c-09c83f6061cb"
      },
      "outputs": [
        {
          "data": {
            "text/plain": [
              "(tensor([[ 0.0536, -0.1534, -1.0243],\n",
              "         [ 1.2320,  1.1382, -0.9016]]),\n",
              " tensor([1, 1]))"
            ]
          },
          "execution_count": 228,
          "metadata": {},
          "output_type": "execute_result"
        }
      ],
      "source": [
        "dataloader = DataLoader(dataset, batch_size=7)\n",
        "all_batches = list(dataloader)\n",
        "batch_data, batch_labels = all_batches[-1]  # 마지막 배치 조회\n",
        "batch_data, batch_labels"
      ]
    },
    {
      "cell_type": "markdown",
      "id": "2a10ad2f",
      "metadata": {
        "id": "2a10ad2f"
      },
      "source": [
        "## 03-024 셔플된 DataLoader에서 마지막 배치 조회\n"
      ]
    },
    {
      "cell_type": "code",
      "execution_count": null,
      "id": "d0504cf1",
      "metadata": {
        "id": "d0504cf1",
        "outputId": "385fffc9-7076-4279-cb9b-ec265cb50aa0"
      },
      "outputs": [
        {
          "data": {
            "text/plain": [
              "(tensor([[-1.6644,  0.4552, -0.0157],\n",
              "         [-0.0804, -0.0497, -0.0566]]),\n",
              " tensor([1, 1]))"
            ]
          },
          "execution_count": 229,
          "metadata": {},
          "output_type": "execute_result"
        }
      ],
      "source": [
        "dataloader = DataLoader(dataset, batch_size=7, shuffle=True)\n",
        "all_batches = list(dataloader)\n",
        "batch_data, batch_labels = all_batches[-1]  # 마지막 배치 조회\n",
        "batch_data, batch_labels"
      ]
    },
    {
      "cell_type": "markdown",
      "id": "0f886b9a",
      "metadata": {
        "id": "0f886b9a"
      },
      "source": [
        "## 03-025 마지막 배치를 버리는 DataLoader에서 마지막 배치 조회\n"
      ]
    },
    {
      "cell_type": "code",
      "execution_count": null,
      "id": "8a0ee72a",
      "metadata": {
        "id": "8a0ee72a",
        "outputId": "a2e8735c-2b0f-4e59-8894-ea20408780cb"
      },
      "outputs": [
        {
          "data": {
            "text/plain": [
              "(tensor([[ 0.0359,  1.4195, -1.2300],\n",
              "         [-0.3445,  0.4563, -1.2830],\n",
              "         [-0.9926, -1.8611,  0.7644],\n",
              "         [-0.1941, -2.3274, -0.2472],\n",
              "         [ 1.1678, -0.3123,  0.0065],\n",
              "         [-0.5921,  0.1445, -0.5832],\n",
              "         [-1.6414, -0.5791,  0.6931]]),\n",
              " tensor([0, 0, 1, 0, 0, 0, 0]))"
            ]
          },
          "execution_count": 230,
          "metadata": {},
          "output_type": "execute_result"
        }
      ],
      "source": [
        "dataloader = DataLoader(dataset, batch_size=7, shuffle=True, drop_last=True)\n",
        "all_batches = list(dataloader)\n",
        "batch_data, batch_labels = all_batches[-1]  # 마지막 배치 조회\n",
        "batch_data, batch_labels"
      ]
    },
    {
      "cell_type": "markdown",
      "id": "73eee35a",
      "metadata": {
        "id": "73eee35a"
      },
      "source": [
        "## 연습문제-03-004 커스텀 데이터셋과 DataLoader 생성\n"
      ]
    },
    {
      "cell_type": "code",
      "execution_count": null,
      "id": "4501ce13",
      "metadata": {
        "id": "4501ce13"
      },
      "outputs": [],
      "source": [
        "# 새로운 랜덤 데이터 생성\n",
        "data = torch.randn(150, 4)  # 150개의 샘플, 각 샘플은 4차원 벡터\n",
        "labels = torch.randint(0, 3, (150,))  # 3개의 클래스로 분류되는 150개의 레이블\n",
        "\n",
        "# 커스텀 데이터셋과 DataLoader 생성\n",
        "# 커스텀 데이터셋 클래스는 03-019 재활용\n",
        "\n",
        "# 미니 배치 크기는 5"
      ]
    },
    {
      "cell_type": "markdown",
      "id": "477d1d1b",
      "metadata": {
        "id": "477d1d1b"
      },
      "source": [
        "## 연습문제-03-005 DataLoader에서 배치 조회\n"
      ]
    },
    {
      "cell_type": "code",
      "execution_count": null,
      "id": "35c5f6f0",
      "metadata": {
        "id": "35c5f6f0",
        "outputId": "61b67e36-fa14-44e8-ff17-b4107a56e710"
      },
      "outputs": [
        {
          "data": {
            "text/plain": [
              "(tensor([[-0.3016, -1.4033, -1.3271, -0.9948],\n",
              "         [-0.4940,  1.1366, -0.4618,  1.4200],\n",
              "         [ 0.8211, -0.0675,  0.9491, -0.3983],\n",
              "         [ 0.6899, -1.3129,  0.0378, -1.1702],\n",
              "         [ 2.3664, -0.6323, -0.3615, -1.6917]]),\n",
              " tensor([2, 2, 0, 2, 2]))"
            ]
          },
          "execution_count": 67,
          "metadata": {},
          "output_type": "execute_result"
        }
      ],
      "source": [
        "# DataLoader에서 모든 배치를 리스트로 변환\n",
        "\n",
        "\n",
        "# 첫 번째 배치 조회\n"
      ]
    },
    {
      "cell_type": "markdown",
      "id": "eb93fb1a",
      "metadata": {
        "id": "eb93fb1a"
      },
      "source": [
        "## 연습문제-03-006 DataLoader에서 마지막 배치 조회 (새로운 배치 크기)\n"
      ]
    },
    {
      "cell_type": "code",
      "execution_count": null,
      "id": "e1e41adb",
      "metadata": {
        "id": "e1e41adb",
        "outputId": "cce02bca-0ded-4bde-ebba-d86662fff891"
      },
      "outputs": [
        {
          "data": {
            "text/plain": [
              "(tensor([[ 0.7928,  0.2882, -1.1787, -2.1401],\n",
              "         [-1.3086,  0.6598, -0.0703,  0.2745],\n",
              "         [ 0.5569, -0.2322, -0.0597, -1.6665]]),\n",
              " tensor([0, 0, 1]))"
            ]
          },
          "execution_count": 68,
          "metadata": {},
          "output_type": "execute_result"
        }
      ],
      "source": [
        "# DataLoader에서 배치 크기를 7로 설정\n",
        "\n",
        "\n",
        "# DataLoader에서 마지막 배치 조회\n"
      ]
    },
    {
      "cell_type": "markdown",
      "id": "f60f4c8c",
      "metadata": {
        "id": "f60f4c8c"
      },
      "source": [
        "## 연습문제-03-007 셔플된 DataLoader에서 마지막 배치 조회\n"
      ]
    },
    {
      "cell_type": "code",
      "execution_count": null,
      "id": "18f30be2",
      "metadata": {
        "id": "18f30be2",
        "outputId": "02615292-6f15-48d8-fd60-e653bb2ae7df"
      },
      "outputs": [
        {
          "data": {
            "text/plain": [
              "(tensor([[ 2.3664, -0.6323, -0.3615, -1.6917],\n",
              "         [ 0.3048,  0.5130, -1.2514, -0.8308],\n",
              "         [ 0.5217, -0.4639,  0.1824, -0.3867]]),\n",
              " tensor([2, 2, 2]))"
            ]
          },
          "execution_count": 69,
          "metadata": {},
          "output_type": "execute_result"
        }
      ],
      "source": [
        "# DataLoader에서 batch_size=7, shuffle=True로 설정하여 셔플된 데이터 로드\n",
        "\n",
        "\n",
        "# 셔플된 DataLoader에서 마지막 배치 조회\n"
      ]
    },
    {
      "cell_type": "markdown",
      "id": "4b69b93d",
      "metadata": {
        "id": "4b69b93d"
      },
      "source": [
        "## 연습문제-03-008 drop_last가 설정된 DataLoader에서 마지막 배치 조회\n"
      ]
    },
    {
      "cell_type": "code",
      "execution_count": null,
      "id": "cf871699",
      "metadata": {
        "id": "cf871699",
        "outputId": "d0c0519d-d66a-4426-934f-a2ea7fdb76e2"
      },
      "outputs": [
        {
          "data": {
            "text/plain": [
              "(tensor([[-0.4127,  0.0124,  0.5042,  1.1400],\n",
              "         [-1.1527,  0.2847, -0.3088, -0.3023],\n",
              "         [ 0.8257,  1.8880, -0.4291, -0.4891],\n",
              "         [ 1.7171,  0.8437,  0.0836, -0.3027],\n",
              "         [-0.1610, -1.5288,  1.4477,  0.8499],\n",
              "         [ 3.1581, -2.0602,  1.7429, -1.7478],\n",
              "         [-0.1271,  0.8863, -0.9402,  0.3849]]),\n",
              " tensor([2, 0, 2, 1, 2, 0, 2]))"
            ]
          },
          "execution_count": 232,
          "metadata": {},
          "output_type": "execute_result"
        }
      ],
      "source": [
        "# DataLoader에서 batch_size=7, drop_last=True로 설정하여 셔플된 데이터 로드\n",
        "\n",
        "# 셔플된 DataLoader에서 마지막 배치 조회\n"
      ]
    },
    {
      "cell_type": "markdown",
      "id": "60192a23",
      "metadata": {
        "id": "60192a23"
      },
      "source": [
        "---"
      ]
    }
  ],
  "metadata": {
    "kernelspec": {
      "display_name": "Python 3 (ipykernel)",
      "language": "python",
      "name": "python3"
    },
    "language_info": {
      "codemirror_mode": {
        "name": "ipython",
        "version": 3
      },
      "file_extension": ".py",
      "mimetype": "text/x-python",
      "name": "python",
      "nbconvert_exporter": "python",
      "pygments_lexer": "ipython3",
      "version": "3.10.14"
    },
    "colab": {
      "provenance": [],
      "include_colab_link": true
    }
  },
  "nbformat": 4,
  "nbformat_minor": 5
}